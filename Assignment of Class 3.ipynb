{
 "cells": [
  {
   "cell_type": "code",
   "execution_count": 3,
   "id": "e67e8d85",
   "metadata": {},
   "outputs": [
    {
     "name": "stdout",
     "output_type": "stream",
     "text": [
      "Enter 1st number10\n",
      "Enter 2nd number5\n",
      "50\n",
      "2.0\n",
      "15\n",
      "5\n"
     ]
    }
   ],
   "source": [
    "# CLASS 3 Of AI from PIAIC\n",
    "# Assignment 1: Take two numbers as input then cast them into numbers and apply operations of multiplication, division, addition and subtraction.\n",
    "\n",
    "num1 = int(input(\"Enter 1st number\"))\n",
    "num2 = int(input(\"Enter 2nd number\"))\n",
    "print(num1 * num2)\n",
    "print(num1 / num2)\n",
    "print(num1 + num2)\n",
    "print(num1 - num2)"
   ]
  },
  {
   "cell_type": "code",
   "execution_count": 2,
   "id": "6ff0f08a",
   "metadata": {},
   "outputs": [
    {
     "name": "stdout",
     "output_type": "stream",
     "text": [
      "Artificial Intelligenceclass 3\n",
      "class 3\n"
     ]
    }
   ],
   "source": [
    "#Assignment 2: Take any string as input and get in print.\n",
    "\n",
    "piaic = input(\"Artificial Intelligence\")\n",
    "print(piaic)"
   ]
  },
  {
   "cell_type": "code",
   "execution_count": 1,
   "id": "d729c42b",
   "metadata": {},
   "outputs": [
    {
     "name": "stdout",
     "output_type": "stream",
     "text": [
      "Marksheet containing numbers of 4 subjects\n",
      "python91\n",
      "java85\n",
      "ai88\n",
      "cln90\n",
      "Your grade is A\n"
     ]
    }
   ],
   "source": [
    "#Assignment 3: Make a marksheet. Take input of numbers and show percentage, grades out of 400.\n",
    "\n",
    "print(\"Marksheet containing numbers of 4 subjects\")\n",
    "\n",
    "python = int(input(\"python\"))\n",
    "java = int(input(\"java\"))\n",
    "ai = int(input(\"ai\"))\n",
    "clanguage = int(input(\"cln\"))\n",
    "\n",
    "cumulativetotal = python+java+ai+clanguage\n",
    "\n",
    "avg = cumulativetotal/4\n",
    "percentage = (avg * 100)\n",
    "\n",
    "if avg>=90 and avg<=100:\n",
    "    print(\"Your grade is A1\")\n",
    "elif avg>=80 and avg<90:\n",
    "    print(\"Your grade is A\")\n",
    "    if avg>=70 and avg<80:\n",
    "        print(\"Your grade is B\")\n",
    "    elif avg>=60 and avg<70:\n",
    "        print(\"Your grade is C\")\n",
    "        if avg>=50 and avg<60:\n",
    "            print(\"Your grade is C-\")\n",
    "        elif avg<50:\n",
    "            print(\"Your grade is F*\")"
   ]
  },
  {
   "cell_type": "code",
   "execution_count": null,
   "id": "a16104aa",
   "metadata": {},
   "outputs": [],
   "source": []
  },
  {
   "cell_type": "code",
   "execution_count": null,
   "id": "4f381158",
   "metadata": {},
   "outputs": [],
   "source": []
  }
 ],
 "metadata": {
  "kernelspec": {
   "display_name": "Python 3 (ipykernel)",
   "language": "python",
   "name": "python3"
  },
  "language_info": {
   "codemirror_mode": {
    "name": "ipython",
    "version": 3
   },
   "file_extension": ".py",
   "mimetype": "text/x-python",
   "name": "python",
   "nbconvert_exporter": "python",
   "pygments_lexer": "ipython3",
   "version": "3.9.7"
  }
 },
 "nbformat": 4,
 "nbformat_minor": 5
}
